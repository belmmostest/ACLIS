{
 "cells": [
  {
   "cell_type": "markdown",
   "metadata": {},
   "source": [
    "# Test Enrichment Pipeline"
   ]
  },
  {
   "cell_type": "code",
   "execution_count": 1,
   "metadata": {},
   "outputs": [],
   "source": [
    "import os, sys\n",
    "sys.path.append(os.path.abspath('../'))"
   ]
  },
  {
   "cell_type": "code",
   "execution_count": 3,
   "metadata": {},
   "outputs": [],
   "source": [
    "from src.pipeline.ingestion import IngestionPipeline\n",
    "from src.pipeline.enrichment import EnrichmentPipeline"
   ]
  },
  {
   "cell_type": "code",
   "execution_count": null,
   "metadata": {},
   "outputs": [
    {
     "name": "stdout",
     "output_type": "stream",
     "text": [
      "  customer_id                                            profile\n",
      "0   1-1013HKU  This customer (ID: 1-1013HKU) exhibits moderat...\n",
      "1   1-10KIP0I  Customer 1-10KIP0I demonstrates low broadband ...\n"
     ]
    }
   ],
   "source": [
    "\n",
    "\n",
    "ip = IngestionPipeline()\n",
    "data = ip.run()\n",
    "# Use a small sample for enrichment\n",
    "sample = data['scored_data'].head(2)\n",
    "ep = EnrichmentPipeline()\n",
    "profiles = ep.enrich(data['scored_data'], data['feature_metadata'])\n",
    "print(profiles)"
   ]
  },
  {
   "cell_type": "code",
   "execution_count": 5,
   "metadata": {},
   "outputs": [
    {
     "data": {
      "application/vnd.microsoft.datawrangler.viewer.v0+json": {
       "columns": [
        {
         "name": "index",
         "rawType": "int64",
         "type": "integer"
        },
        {
         "name": "customer_id",
         "rawType": "object",
         "type": "string"
        },
        {
         "name": "profile",
         "rawType": "object",
         "type": "string"
        }
       ],
       "ref": "727efd18-60aa-4824-923a-10852db37122",
       "rows": [
        [
         "0",
         "1-1013HKU",
         "This customer (ID: 1-1013HKU) exhibits moderate broadband usage with 185.83 GB downloaded over 3 months and 267 sessions. They are currently out of contract and pay exclusively via bank/card. Revenue is modest (band 2) and they have a single service. Notably, they haven't performed any speed tests. Their location data suggests a concentrated area for voice and broadband services. The model predicts a low probability of a speed upsell (y_pred=0.0022), aligning with their current profile and lack of engagement. Further investigation into contract renewal and potential service bundling could be beneficial."
        ],
        [
         "1",
         "1-10KIP0I",
         "Customer 1-10KIP0I demonstrates low broadband usage (48.25 GB over 3 months) and a single service. They pay primarily with cash and bank/card. They are not out of contract and have a single service. They haven't performed any speed tests. Their location data suggests a concentrated area for voice and broadband services. The model predicts a low probability of a speed upsell (y_pred=0.0016), consistent with their limited usage and current contract status. Exploring alternative payment options and assessing their interest in additional services could be explored."
        ]
       ],
       "shape": {
        "columns": 2,
        "rows": 2
       }
      },
      "text/html": [
       "<div>\n",
       "<style scoped>\n",
       "    .dataframe tbody tr th:only-of-type {\n",
       "        vertical-align: middle;\n",
       "    }\n",
       "\n",
       "    .dataframe tbody tr th {\n",
       "        vertical-align: top;\n",
       "    }\n",
       "\n",
       "    .dataframe thead th {\n",
       "        text-align: right;\n",
       "    }\n",
       "</style>\n",
       "<table border=\"1\" class=\"dataframe\">\n",
       "  <thead>\n",
       "    <tr style=\"text-align: right;\">\n",
       "      <th></th>\n",
       "      <th>customer_id</th>\n",
       "      <th>profile</th>\n",
       "    </tr>\n",
       "  </thead>\n",
       "  <tbody>\n",
       "    <tr>\n",
       "      <th>0</th>\n",
       "      <td>1-1013HKU</td>\n",
       "      <td>This customer (ID: 1-1013HKU) exhibits moderat...</td>\n",
       "    </tr>\n",
       "    <tr>\n",
       "      <th>1</th>\n",
       "      <td>1-10KIP0I</td>\n",
       "      <td>Customer 1-10KIP0I demonstrates low broadband ...</td>\n",
       "    </tr>\n",
       "  </tbody>\n",
       "</table>\n",
       "</div>"
      ],
      "text/plain": [
       "  customer_id                                            profile\n",
       "0   1-1013HKU  This customer (ID: 1-1013HKU) exhibits moderat...\n",
       "1   1-10KIP0I  Customer 1-10KIP0I demonstrates low broadband ..."
      ]
     },
     "execution_count": 5,
     "metadata": {},
     "output_type": "execute_result"
    }
   ],
   "source": [
    "profiles"
   ]
  },
  {
   "cell_type": "code",
   "execution_count": null,
   "metadata": {},
   "outputs": [],
   "source": []
  }
 ],
 "metadata": {
  "kernelspec": {
   "display_name": ".venv",
   "language": "python",
   "name": "python3"
  },
  "language_info": {
   "codemirror_mode": {
    "name": "ipython",
    "version": 3
   },
   "file_extension": ".py",
   "mimetype": "text/x-python",
   "name": "python",
   "nbconvert_exporter": "python",
   "pygments_lexer": "ipython3",
   "version": "3.11.9"
  }
 },
 "nbformat": 4,
 "nbformat_minor": 2
}
