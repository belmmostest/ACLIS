{
 "cells": [
  {
   "cell_type": "markdown",
   "metadata": {},
   "source": [
    "# Test Segmentation Pipeline"
   ]
  },
  {
   "cell_type": "code",
   "execution_count": null,
   "metadata": {},
   "outputs": [],
   "source": [
    "import os, sys\n",
    "sys.path.append(os.path.abspath('../src'))\n",
    "from ingestion import IngestionPipeline\n",
    "from segmentation import SegmentationPipeline\n",
    "ip = IngestionPipeline()\n",
    "data = ip.run()\n",
    "sp = SegmentationPipeline()\n",
    "segments = sp.segment(data['scored_data'])\n",
    "print(segments.head())"
   ]
  }
 ],
 "metadata": {
  "kernelspec": {
   "display_name": "Python 3",
   "language": "python",
   "name": "python3"
  },
  "language_info": {
   "name": "python",
   "version": "3.x"
  }
 },
 "nbformat": 4,
 "nbformat_minor": 2
}