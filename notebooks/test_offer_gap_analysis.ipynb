{
 "cells": [
  {
   "cell_type": "markdown",
   "metadata": {},
   "source": [
    "# Test Offer Gap Analysis"
   ]
  },
  {
   "cell_type": "code",
   "execution_count": null,
   "metadata": {},
   "outputs": [],
   "source": [
    "import os, sys\n",
    "sys.path.append(os.path.abspath('../src'))\n",
    "from ingestion import IngestionPipeline\n",
    "from segmentation import SegmentationPipeline\n",
    "from offer_gap_analysis import OfferGapAnalyzer\n",
    "ip = IngestionPipeline()\n",
    "data = ip.run()\n",
    "segments = SegmentationPipeline().segment(data['scored_data'])\n",
    "oga = OfferGapAnalyzer()\n",
    "recs = oga.analyze(segments, data['offers'], data['offers_metadata'])\n",
    "print(recs)"
   ]
  }
 ],
 "metadata": {
  "kernelspec": {
   "display_name": "Python 3",
   "language": "python",
   "name": "python3"
  },
  "language_info": {
   "name": "python",
   "version": "3.x"
  }
 },
 "nbformat": 4,
 "nbformat_minor": 2
}